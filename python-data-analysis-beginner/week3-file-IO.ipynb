{
 "cells": [
  {
   "cell_type": "markdown",
   "metadata": {},
   "source": [
    "# WEEK 3 - File Input / Output"
   ]
  },
  {
   "cell_type": "markdown",
   "metadata": {},
   "source": [
    "# 1. 표준 입출력"
   ]
  },
  {
   "cell_type": "markdown",
   "metadata": {},
   "source": [
    "컴퓨터 처리 분야에서, 컴퓨터의 5대 기능을 보통 제어, 연산, 입력, 출력. 기억이라고 정의하는데요. 그 중에서 입력과 출력의 기능을 꺼내 입출력이라고 부릅니다. 입력은 보통 입력 장치를 이용하고 컴퓨터에 사용자가 데이터, 정보 등을 전달하는 것을 뜻하고, 출력은 출력 장치를 이용하여, 컴퓨터가 사용자에게 데이터 등을 전달하는 것을 말합니다. 가장 보편적인 입력 장치는 키보드와 마우스, 터치패드 등이 있고, 출력 장치는 모니터, 프린터 등이 있습니다.\n",
    "\n",
    "그 중에서도 키보드를 이용한 입력과 모니터를 이용한 출력을 특별히 '표준입출력(Standard I/O)'라고 부릅니다."
   ]
  },
  {
   "cell_type": "markdown",
   "metadata": {},
   "source": [
    "## (1) 사용자 입력"
   ]
  },
  {
   "cell_type": "code",
   "execution_count": null,
   "metadata": {
    "collapsed": true
   },
   "outputs": [],
   "source": [
    "# 지금까지는 이미 정해진 값을 변수에 대입하거나 프로그램에 사용해왔는데, \n",
    "# 실시간으로 사용자가 입력한 값을 프로그램에 사용하고 싶다면 어떻게 해야할까요?\n",
    "\n",
    "string_input = raw_input()\n",
    "print string_input\n",
    "\n",
    "type(string_input) # raw_input()은 입력되는 모든 것을 문자열로 인식합니다.\n",
    "\n",
    "\n",
    "# 커서 앞에 글자를 넣고 싶다!\n",
    "\n",
    "#-*- coding: utf-8 -*-\n",
    "string_input = raw_input(\"입력값을 넣어주세요 : \")\n",
    "print string_input\n",
    "\n",
    "\n",
    "# 예제 : 학생 3명의 이름과 나이를 차례로 입력받아 딕셔너리 형태로 저장하는 코드를 작성해보세요.\n",
    "# 최종 결과 형태\n",
    "\"\"\"\n",
    "{\n",
    "    학생1 : 나이,\n",
    "    학생2 : 나이,\n",
    "    학생3 : 나이\n",
    "    \n",
    "}\n",
    "\"\"\"\n",
    "\n",
    "\n",
    "\n",
    "\n",
    "\n",
    "\n"
   ]
  },
  {
   "cell_type": "markdown",
   "metadata": {},
   "source": [
    "## (2) Print Formatting"
   ]
  },
  {
   "cell_type": "code",
   "execution_count": null,
   "metadata": {
    "collapsed": false
   },
   "outputs": [],
   "source": [
    "# 그 동안 print 함수에서 여러 정보를 한번에 출력할 때 ','로 나열하여 작성했었죠.\n",
    "# 이 방법보다 가독성도 높고 보기 좋은 방법이 있습니다. 바로 format 함수를 사용하는 방법인데요.\n",
    "\n",
    "# 기본 형태 : string.format()\n",
    "\n",
    "# automatic field numbering\n",
    "print 'I say {}, You say {}'.format('Hey', 'Ho') # 문자열\n",
    "print 'I bought {} eggs and {} milk'.format(10, 2) # 숫자형\n",
    "\n",
    "# manual field specification\n",
    "print '{0} meets {1}'.format(\"Mary\", \"Harry\") # 순서 지정\n",
    "print '{1} meets {0}'.format(\"Mary\", \"Harry\")\n",
    "\n",
    "string = '{0} meets {1}'.format('Mary', 'Harry') # 변수\n",
    "print string\n",
    "\n",
    "\n",
    "# keyword arguments\n",
    "\n",
    "print '{thing} is {color}'.format(thing = 'apple', color = 'red')\n",
    "print '{thing} is {color}'.format(color = 'blue', thing = 'sea')\n",
    "\n",
    "print '{0}, {1}, and {other}'.format('Egg', 'Spam', other = 'Tuna')\n",
    "print '{0}, {two}, and {1}'.format('Egg', 'Tuna', two = 'Spam')\n",
    "print '{}, {}, and {other}'.format('Egg', 'Spam', other = 'Tuna')\n",
    "\n",
    "print '{}, and {0}'.format('Egg', 'Tuna')\n",
    "\n",
    "\n",
    "# : 의 쓰임새\n",
    "# string format에서 : 은 각 요소들의 정렬을 맞추고 싶을 때 사용합니다.\n",
    "\n",
    "# 소수점 자리 지정\n",
    "import math\n",
    "print 'Pi is {0:.3f}'.format(math.pi)\n",
    "print 'Pi is {}'.format(math.pi)\n",
    "\n",
    "# 왼쪽 / 오른쪽 정렬\n",
    "print '{0} was born in {1}'.format('John Lennon', 1940)\n",
    "print '{0} was born in {1}'.format('harrison ford ', 1942)\n",
    "\n",
    "\n",
    "print '{0:20} was born in {1:5}'.format('John Lennon', 1940)\n",
    "print '{0:20} was born in {1:5}'.format('harrison ford ', 1942)\n",
    "\n",
    "print '{0:>20} was born in {1:5}'.format('John Lennon', 1940)\n"
   ]
  },
  {
   "cell_type": "markdown",
   "metadata": {},
   "source": [
    "# 2. File Input / Output"
   ]
  },
  {
   "cell_type": "markdown",
   "metadata": {},
   "source": [
    "파일 입출력은 말 그대로 파일로 쓰여있는 내용을 불러와서(입력) 프로그램에서 활용하고, 결과를 파일에 다시 저장(출력)하는 과정 및 방법을 가리킵니다. 이번 시간에는 가장 간단한 파일 형태인 텍스트 파일을 통해 파일 입출력 방법을 알아보고, 최종적으로 텍스트 파일을 간단하게 분석하는 실습을 해보겠습니다."
   ]
  },
  {
   "cell_type": "markdown",
   "metadata": {},
   "source": [
    "### 파일 읽기"
   ]
  },
  {
   "cell_type": "code",
   "execution_count": null,
   "metadata": {
    "collapsed": false
   },
   "outputs": [],
   "source": [
    "# 파일 읽기 => 컴퓨터에 저장되어 있는 파일을 열어 프로그램에 입력으로 사용\n",
    "\n",
    "# 읽기 전용으로 파일 열기\n",
    "fr = open('./example.txt', 'r')\n",
    "print fr\n",
    "\n",
    "# 쓰기 전용으로 파일 열기\n",
    "\n",
    "# 파일이 없으면 새로 생성\n",
    "# 동일한 이름의 파일이 있으면 지우고 새로 생성\n",
    "# 비교 'w' & 'a'\n",
    "fw = open('./hello.txt', 'w')\n",
    "fa = open('./hello.txt', 'a')\n",
    "\n",
    "# 읽기 쓰기 모두 가능\n",
    "frw = open('./hello.txt', 'r+')\n",
    "\n",
    "\n",
    "\n",
    "# 파일 내용 읽어오기\n",
    "\n",
    "# 1) 파일 내용 한번에 읽어오기\n",
    "frw.read()\n",
    "frw.read(5) # 사이즈만큼 읽어오기\n",
    "\n",
    "while True :\n",
    "    result = frw.read(5)\n",
    "    if result == '' : # 파일 끝까지 읽으면 ''를 리턴합니다.\n",
    "        break\n",
    "    print result\n",
    "\n",
    "# 하지만 이렇게 파일 전체를 한번에 가져오게 되면 문제가 있습니다.\n",
    "# 파일 내용이 너무 커서 메모리 용량보다 크게 되면 이상이 생기겠죠?\n",
    "\n",
    "# 2) 한줄 단위로 읽어오기\n",
    "print frw.readline()\n",
    "\n",
    "# 한줄씩 끝까지 읽어와서 출력하려면?\n",
    "\n",
    "# 1) while 문\n",
    "\n",
    "\n",
    "# 2) for 문\n",
    "\n",
    "\n",
    "# 파일 전체 행을 리스트로 저장하기\n",
    "list(frw)\n",
    "frw.readlines()\n"
   ]
  },
  {
   "cell_type": "markdown",
   "metadata": {},
   "source": [
    "### 텍스트 다루기"
   ]
  },
  {
   "cell_type": "code",
   "execution_count": null,
   "metadata": {
    "collapsed": true
   },
   "outputs": [],
   "source": [
    "# 텍스트를 다루기에 매우 편리한 리스트 함수들이 있습니다.\n",
    "\n",
    "string = \"life's too short, you need python\"\n",
    "# 이 문자열을 띄어쓰기 단위로 쪼개고 싶다면 어떻게 해야할까요?\n",
    "split_space = string.split()\n",
    "print split_space\n",
    "\n",
    "# 띄어쓰기가 아니라 특정 문자를 기준으로 분리할 수도 있습니다.\n",
    "split_comma = string.split(',')\n",
    "split_t = string.split('t')\n",
    "\n",
    "\n",
    "# 쪼갰으니까 뭉칠 수도 있어야겠죠?\n",
    "join_space = ' '.join(split_space)\n",
    "join_comma = ','.join(split_comma)\n",
    "join_t = 't'.join(split_t)\n",
    "\n",
    "\n",
    "# 글자 바꿔치기\n",
    "string.replace('life', 'Life')\n",
    "string.replace('life', 'Life').replace(',', '.')\n",
    "\n",
    "# 여러 개를 조합해서 사용할 수도 있습니다.\n",
    "string.replace(' ', '').split('t')"
   ]
  },
  {
   "cell_type": "markdown",
   "metadata": {},
   "source": [
    "### 파일 쓰기"
   ]
  },
  {
   "cell_type": "code",
   "execution_count": null,
   "metadata": {
    "collapsed": true
   },
   "outputs": [],
   "source": [
    "# 파일 쓰기 => 프로그램의 결과를 파일로 출력(저장)\n",
    "\n",
    "frw.write('\\nThis line is newly added')\n",
    "\n",
    "# **** 텍스트 파일에 쓸 때는 모두 str 타입으로 바꿔 주어야 합니다.\n",
    "\n",
    "frw.write(123)\n",
    "frw.write(str(123))\n",
    "\n",
    "value = ('the answer', 42)\n",
    "frw.write(str(value))\n",
    "\n",
    "\n",
    "\n",
    "# 기타 기능\n",
    "\n",
    "# 커서가 지금 어디있는지?\n",
    "frw.tell()\n",
    "\n",
    "# 커서를 내가 원하는 곳으로 이동하고 싶다!\n",
    "# from_what\n",
    "# 0 : 파일 시작\n",
    "# 1 : 커서 위치\n",
    "# 2 : 파일 끝\n",
    "\n",
    "frw.seek(offset, (frow_what))\n",
    "\n",
    "\n",
    "# 파일 사용이 끝났으면 반드시 파일을 닫아줘야 합니다!\n",
    "frw.close()\n",
    "# 그런데 이걸 깜박하는 경우가 굉장히 많아요\n",
    "# with ... as ... 를 사용하면 close를 안 해도 됩니다.\n",
    "with open('./example.txt', 'r+') as frw:\n",
    "    for line in frw:\n",
    "        print line\n",
    "    \n",
    "    frw.write('\\nThe end')\n",
    "    \n",
    "frw.readline()\n"
   ]
  },
  {
   "cell_type": "markdown",
   "metadata": {},
   "source": [
    "### 텍스트 분석 실습"
   ]
  },
  {
   "cell_type": "markdown",
   "metadata": {},
   "source": [
    "이번 주에 실습 내용은 소설 '위대한 개츠비'의 원문이 담긴 텍스트 파일을 불러와서, 각 단어가 몇 번 나왔는지 세는 작업을 해보는 것입니다. 각 단어와 출현 횟수는 dictionary의 key:value 쌍으로 나타내도록 합니다."
   ]
  },
  {
   "cell_type": "code",
   "execution_count": 3,
   "metadata": {
    "collapsed": false
   },
   "outputs": [
    {
     "ename": "NameError",
     "evalue": "name 'americano' is not defined",
     "output_type": "error",
     "traceback": [
      "\u001b[1;31m---------------------------------------------------------------------------\u001b[0m",
      "\u001b[1;31mNameError\u001b[0m                                 Traceback (most recent call last)",
      "\u001b[1;32m<ipython-input-3-474a8c2768ab>\u001b[0m in \u001b[0;36m<module>\u001b[1;34m()\u001b[0m\n\u001b[0;32m     54\u001b[0m \u001b[1;32mimport\u001b[0m \u001b[0moperator\u001b[0m\u001b[1;33m\u001b[0m\u001b[0m\n\u001b[0;32m     55\u001b[0m \u001b[1;33m\u001b[0m\u001b[0m\n\u001b[1;32m---> 56\u001b[1;33m \u001b[0msorted_cafe\u001b[0m \u001b[1;33m=\u001b[0m \u001b[0msorted\u001b[0m\u001b[1;33m(\u001b[0m\u001b[0mamericano\u001b[0m\u001b[1;33m.\u001b[0m\u001b[0mitems\u001b[0m\u001b[1;33m(\u001b[0m\u001b[1;33m)\u001b[0m\u001b[1;33m,\u001b[0m \u001b[0mkey\u001b[0m\u001b[1;33m=\u001b[0m\u001b[0moperator\u001b[0m\u001b[1;33m.\u001b[0m\u001b[0mitemgetter\u001b[0m\u001b[1;33m(\u001b[0m\u001b[1;36m1\u001b[0m\u001b[1;33m,\u001b[0m\u001b[1;36m0\u001b[0m\u001b[1;33m)\u001b[0m\u001b[1;33m,\u001b[0m \u001b[0mreverse\u001b[0m\u001b[1;33m=\u001b[0m\u001b[0mTrue\u001b[0m\u001b[1;33m)\u001b[0m\u001b[1;33m\u001b[0m\u001b[0m\n\u001b[0m\u001b[0;32m     57\u001b[0m \u001b[1;33m\u001b[0m\u001b[0m\n\u001b[0;32m     58\u001b[0m \u001b[1;31m# 위에서 분석된 딕셔너리를 많이 나온 횟수에 따라 정렬된 순서로 텍스트 파일에 저장해볼까요\u001b[0m\u001b[1;33m\u001b[0m\u001b[1;33m\u001b[0m\u001b[0m\n",
      "\u001b[1;31mNameError\u001b[0m: name 'americano' is not defined"
     ]
    }
   ],
   "source": [
    "file_path = './the_great_gatsby.txt'\n",
    "\n",
    "# 함수(입력파일이름, 출력파일이름)\n",
    "# 1) 파일을 읽어서 단어 나오는 횟수 화면에 출력\n",
    "# 2) 결과를 txt 파일에 저장\n",
    "# 3) 단어를 나온 횟수만큼 파일에 출력(예) A A A A A A am am am am am am am be be be be\n",
    "\n",
    "def text_to_dictionary(read_file) :\n",
    "    try :\n",
    "        with open(read_file, 'r') as f:\n",
    "            buf = []\n",
    "            data = {}\n",
    "            for line in f :\n",
    "                newline = line.lower()\n",
    "                newline = newline.replace('.', ' ').replace(',', '').replace('-', '').replace('?', '').replace('!', '')\n",
    "                buf = newline.split()\n",
    "                for key in buf :\n",
    "                    if key in data:\n",
    "                        data[key] += 1\n",
    "                    else :\n",
    "                        data[key] = 1\n",
    "\n",
    "            return data\n",
    "    except :\n",
    "        return None\n",
    "    \n",
    "\n",
    "result = text_to_dictionary('./the_great_gatsby.txt')\n",
    "\n",
    "\n",
    "# dictionary 분석\n",
    "\n",
    "def text_to_text(read_file, write_file):\n",
    "    with open(read_file, 'r') as f:\n",
    "        buf = []\n",
    "        data = {}\n",
    "        for line in f:\n",
    "            buf = line.split()\n",
    "            for key in buf :\n",
    "                if key in data:\n",
    "                    data[key] += 1\n",
    "                else:\n",
    "                    data[key] = 1\n",
    "\n",
    "        with open(write_file, 'w') as wf:\n",
    "            for key in data:\n",
    "                st = key + ':' + str(data[key]) + '\\n'\n",
    "                wf.write(st)\n",
    "                \n",
    "text_to_text('./the_great_gatsby.txt', './gatsby_result.txt')\n",
    "\n",
    "\n",
    "\n",
    "# Dictionary는 원칙적으로 순서가 없지만, 정렬을 할 수 있게 만들어진 함수를 사용하면 인위적으로 정렬할 수 있습니다.\n",
    "import operator\n",
    "\n",
    "sorted_cafe = sorted(americano.items(), key=operator.itemgetter(1,0), reverse=True)\n",
    "\n",
    "# 위에서 분석된 딕셔너리를 많이 나온 횟수에 따라 정렬된 순서로 텍스트 파일에 저장해볼까요\n",
    "\n",
    "\n",
    "# 각 단어를 나온 횟수만큼 텍스트 파일에 출력하는 함수를 만들어 볼까요\n",
    "\n",
    "\n",
    "\n",
    "# 함수의 가장 중요한 특징은 '재사용성'입니다.\n",
    "# 함수를 만들 때 가장 좋은 것은 다시 사용하기 쉽게, 기능별로 분리해서 만드는 것입니다.\n",
    "\n",
    "# 위에서 만든 함수를 분석은 분석대로, 출력은 출력대로 함수를 분리하여 다시 정리해봅시다.\n"
   ]
  },
  {
   "cell_type": "code",
   "execution_count": null,
   "metadata": {
    "collapsed": true
   },
   "outputs": [],
   "source": []
  }
 ],
 "metadata": {
  "kernelspec": {
   "display_name": "Python 2",
   "language": "python",
   "name": "python2"
  },
  "language_info": {
   "codemirror_mode": {
    "name": "ipython",
    "version": 2
   },
   "file_extension": ".py",
   "mimetype": "text/x-python",
   "name": "python",
   "nbconvert_exporter": "python",
   "pygments_lexer": "ipython2",
   "version": "2.7.11"
  }
 },
 "nbformat": 4,
 "nbformat_minor": 0
}
