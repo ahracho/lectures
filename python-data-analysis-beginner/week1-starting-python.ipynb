{
 "cells": [
  {
   "cell_type": "markdown",
   "metadata": {},
   "source": [
    "# WEEK 1  :  파이썬 시작하기"
   ]
  },
  {
   "cell_type": "markdown",
   "metadata": {},
   "source": [
    "# 1. 파이썬 Interactive Mode"
   ]
  },
  {
   "cell_type": "markdown",
   "metadata": {},
   "source": [
    "## (1) Interactive Mode란?"
   ]
  },
  {
   "cell_type": "markdown",
   "metadata": {},
   "source": [
    "사용자가 프롬프터에 한 줄 씩 입력한 명령어(코드)를 바로 처리하여 응답을 출력하는 모드로, 간결한 명령어 처리에 유용하게 사용할 수 있습니다. 파이썬이 정상적으로 설치되고, 환경변수 설정이 완료되었다면,\n",
    "\n",
    "$ python 명령어를 통해 진입할 수 있습니다.\n",
    "\n",
    "파이썬 Interactive Mode에 진입하게 되면, 프롬프터는 \">>>\"와 \"...\" 두 개로 나타나는데, \">>>\"는 각 명령어의 시작을 나타내고, \"...\"는 여러 행으로 이루어진 명령어에서 첫 행이 아닌 행을 나타냅니다.\n"
   ]
  },
  {
   "cell_type": "code",
   "execution_count": null,
   "metadata": {
    "collapsed": false
   },
   "outputs": [],
   "source": [
    "# 아래 코드이 어떻게 동작하는지 지금은 완벽하게 이해하지 않으셔도 됩니다.\n",
    "# Interactive Mode에서 >>> 표시와 ... 표시의 의미 정도만 이해하고 넘어가셔도 충분합니다.\n",
    "\n",
    "# '#(Hashtag)'를 행의 제일 앞에 붙이면 그 줄은 주석처리 되어 프로그램을 실행할 때 해당 행은 무시하고 넘어가게 됩니다.\n",
    "# 여러 행을 한번에 주석처리 하고 싶을 때는 해당 구간을 \"\"\" \"\"\" 로 묶어주면 됩니다.\n",
    "\n",
    "is_programmer = 1\n",
    "if is_programmer:\n",
    "    print \"Programming is Fun!!\""
   ]
  },
  {
   "cell_type": "markdown",
   "metadata": {},
   "source": [
    "## (2) Interactive Mode로 프로그래밍 시작하기"
   ]
  },
  {
   "cell_type": "markdown",
   "metadata": {},
   "source": [
    "어떤 프로그래밍 언어를 학습하든지 가장 먼저 나오는 주제가 바로 자료형에 관한 것입니다. \n",
    "아시다시피 컴퓨터는 근본적으로 0과 1, 이 두가지 숫자로만 모든 동작을 수행하는 데요. 같은 10이라고 하더라도 이게 정수 10인지, 실수 10.0 인지에 따라서 컴퓨터가 이 숫자를 저장하고 처리하는 나름의 방식이 완전히 달라지게 됩니다. 컴퓨터는 우리가 입력해준대로 동작하는 매우 똑똑한 '수동적'인 기계이기 때문에 우리는 컴퓨터가 우리가 원하는 것을 잘 처리할 수 있도록 데이터형을 나눠서 일을 시켜야 합니다.\n",
    "\n",
    "그런데 파이썬이 좋은 이유 중에 하나는, 굳이 사람이 데이터형을 명시해주지 않더라도 알아서 '아, 10은 정수겠구나, 10.0은 실수겠구나, '10'은 문자열이겠구나'를 판단할 수 있다는 것입니다.\n",
    "\n",
    "파이썬에서 사용할 수 있는, 즉 파이썬 언어가 이해할 수 있는 데이터형은\n",
    "\n",
    "    숫자형 (int, float 등)\n",
    "    문자열 (str)\n",
    "    리스트 (list)\n",
    "    딕셔너리 (dict)\n",
    "    참/거짓 (bool), 집합 (sets), 튜플 (tuple)\n",
    "\n",
    "등이 있습니다. 이제 각 데이터형에 대해 차근차근히 알아봅시다."
   ]
  },
  {
   "cell_type": "markdown",
   "metadata": {},
   "source": [
    "### 데이터 타입 (1) - 숫자형: 정수와 실수"
   ]
  },
  {
   "cell_type": "markdown",
   "metadata": {},
   "source": [
    "파이썬에서 사용하는 숫자형 데이터 타입은 크게 정수형(integer)과 실수형(float)으로 나뉩니다."
   ]
  },
  {
   "cell_type": "code",
   "execution_count": null,
   "metadata": {
    "collapsed": false
   },
   "outputs": [],
   "source": [
    "# 기본적인 사칙연산\n",
    "2 + 3\n",
    "30 - 3*7\n",
    "(5 + 7) / 3\n",
    "2.0 + 3.0\n",
    "2.0 * 7\n",
    "\n",
    "# '/' 연산자는 정수끼리의 연산에서는 몫을 반환하고, 정수와 실수 혹은 실수끼리의 연산에서는 실수 값을 반환합니다.\n",
    "28 / 9\n",
    "28 / 9.0\n",
    "\n",
    "# '//' 연산자는 정수, 실수에 관계 없이 몫(실수타입)을 반환합니다.\n",
    "28 // 9.0\n",
    "\n",
    "# '%' 연산자는 두 정수의 나누기에서 나머지를 반환합니다.\n",
    "10 % 2\n",
    "11 % 3\n",
    "\n",
    "# '**' 연산자는 제곱 연산을 수행합니다.\n",
    "3 ** 2\n",
    "2 ** 5"
   ]
  },
  {
   "cell_type": "markdown",
   "metadata": {},
   "source": [
    "앞으로 프로그래밍에서 자주 사용하게 될 개념 중 하나가 변수(Variable)입니다. 변수란, 간단히 얘기해서 데이터에 이름을 붙이는 것이라고 생각하시면 됩니다. \n",
    "변수가 필요한 이유는 무엇일까요? 컴퓨터가 처리할 데이터에 사람이 이해할 수 있는 이름을 붙여줌으로써 관리가 훨씬 쉬워지기 때문입니다. \n",
    "\n",
    "아래의 예를 보시면, 가격에 tip 10%를 더해서 지불해야 하는 총 액수를 계산하는 간단한 프로그램입니다. 그런데 상황에 따라서 가격이 달라질 수도 있고, 지불해야 하는 팁의 비율도 달라질 수 있겠죠? 만약에 우리가 변수를 사용하고 있지 않았다면, 매번 달라진 값에 따라 계산을 해야할 것입니다. 그리고 코드가 길어지고 프로그램이 커지면 어떤 값이 무엇을 의미하는지도 이해할 수 없겠죠. 다른 사람이 작성한 코드를 이해할 수 없는 것은 당연하구요.\n",
    "\n",
    "그래서 값을 변수에 저장해서 관리하는 것은 프로그래밍에서 반드시 필요한 개념입니다. 그리고 지금부터 변수의 이름을 누가 봐도 이해할 수 있도록 적절하게 짓는 연습도 같이 하셔야 합니다. 변수이름은 알파벳(대/소문자)과 숫자, '_'의 조합으로 만들 수 있고, 첫 글자는 반드시 '_' 혹은 알파벳이어야 합니다."
   ]
  },
  {
   "cell_type": "code",
   "execution_count": null,
   "metadata": {
    "collapsed": false
   },
   "outputs": [],
   "source": [
    "# 아래와 같이 변수(variable)에 특정한 값을 대입하여 저장할 수 있습니다.\n",
    "\n",
    "price = 15000 # price라는 변수에 정수 15000 값을 대입\n",
    "tip = 0.1 # vat 변수에 실수 0.1 값을 대입\n",
    "price * (1 + tip)\n",
    "\n",
    "\n",
    "# 삼각형의 넓이를 구하는 식을 써볼까요.\n",
    "# width, height라는 변수에 삼각형의 너비와 높이를 각각 대입하고\n",
    "# area라는 변수에 삼각형의 넓이를 구해 출력해봅시다.\n",
    "\n",
    "\n",
    "\n",
    "\n",
    "\n"
   ]
  },
  {
   "cell_type": "markdown",
   "metadata": {},
   "source": [
    "### 데이터 타입 (2) - 문자열(리스트)"
   ]
  },
  {
   "cell_type": "markdown",
   "metadata": {},
   "source": [
    "문자(character)들의 집합을 프로그래밍에서는 문자열(string)이라고 합니다. 문자열은 내용이 한 줄 일 때는 ' ', \" \" 로, 여러 줄일 때는 \"\"\" \"\"\"로 묶어서 입력해야 합니다. 그렇지 않으면 컴퓨터는 해당 문자열을 변수명으로 인식하게 됩니다."
   ]
  },
  {
   "cell_type": "code",
   "execution_count": null,
   "metadata": {
    "collapsed": false
   },
   "outputs": [],
   "source": [
    "print 'python'\n",
    "\n",
    "# 문자열 중간에 ' 혹은 \"이 들어가야 하는 경우, \\로 구분합니다.\n",
    "print \"doesn't\" # 'doesn't'\n",
    "print 'doesn\\'t'\n",
    "\n",
    "print '\"Yes\", he said'\n",
    "print \"\\\"Yes\\\", he said\""
   ]
  },
  {
   "cell_type": "code",
   "execution_count": null,
   "metadata": {
    "collapsed": false
   },
   "outputs": [],
   "source": [
    "# 문자열도 숫자형과 마찬가지로 변수에 대입하여 저장할 수 있습니다.\n",
    "\n",
    "string = \"Hello World!\"\n",
    "print string"
   ]
  },
  {
   "cell_type": "code",
   "execution_count": null,
   "metadata": {
    "collapsed": false
   },
   "outputs": [],
   "source": [
    "# 문자열에 '+', '*' 연산이 가능하다.\n",
    "'Hello' + 'World'\n",
    "3 * \"Hello\" + 'World'"
   ]
  },
  {
   "cell_type": "code",
   "execution_count": null,
   "metadata": {
    "collapsed": false
   },
   "outputs": [],
   "source": [
    "# 두 문자열 사이의 공백은 무시된다(White Space).\n",
    "\"Hello\"            \"World\"\n",
    "\n",
    "# 단, 변수와의 연산에는 적용되지 않는다.\n",
    "prefix = 'Hello'\n",
    "prefix         'World'\n",
    "\n",
    "# 문자열과 변수 간의 연산도 가능하다.\n",
    "prefix = 'Hello'\n",
    "prefix + 'World'"
   ]
  },
  {
   "cell_type": "code",
   "execution_count": null,
   "metadata": {
    "collapsed": false
   },
   "outputs": [],
   "source": [
    "\"\"\"\n",
    "앞서 설명했듯이, 문자열은 문자들의 집합이라고 이해할 수 있는데, 프로그래밍적으로는 문자열을 문자의 리스트 List(혹은 Array)라고 합니다. \n",
    "리스트는 프로그래밍에서 사용하는 복합형 데이터형 중 하나로, 말 그대로 데이터를 나열한 집합을 의미하는데, \n",
    "다시 말해, 문자열은 문자 하나하나가 나열된 리스트라고 볼 수 있고, 문자들에 순서를 매길 수 있게 됩니다. \n",
    "그림으로 설명하면, \"Python\" 이라는 문자열이 있을 때, 이 것은 아래처럼 나타낼 수 있습니다.\n",
    " \n",
    " +---+---+---+---+---+---+ \n",
    " | P | y | t | h | o | n | \n",
    " +---+---+---+---+---+---+ \n",
    "   0   1   2   3   4   5    \n",
    "  -6  -5  -4  -3  -2  -1\n",
    "\n",
    "총 6글자로 구성된 문자열에서 각각의 문자는 0부터 5까지, 역방향으로는 -1부터 -6까지 차례대로 숫자를 붙여 Indexing 할 수 있게 되는데,\n",
    "여기서 주의할 점은, 프로그래밍에서는 대부분의 경우에 Index가 0부터 시작한다는 것입니다.\n",
    "\"\"\"\n",
    "\n",
    "string = 'Python'\n",
    "print string[0]\n",
    "print string[3]\n",
    "print string[-1]\n",
    "print string[6] # index 범위를 넘어서는 값을 호출하는 경우"
   ]
  },
  {
   "cell_type": "markdown",
   "metadata": {},
   "source": [
    "Index를 활용하여 아래와 같이 문자열의 일부를 구간으로 쪼개어 뽑아낼 수도 있습니다(Slicing)."
   ]
  },
  {
   "cell_type": "code",
   "execution_count": null,
   "metadata": {
    "collapsed": false
   },
   "outputs": [],
   "source": [
    "# Slicing: Index를 활용하여 아래와 같이 문자열을 구간으로 쪼개는 것.\n",
    "\n",
    "print string[0:2]\n",
    "print string[3:5]\n",
    "\n",
    "print string[3:10] # 끝 지점을 문자열의 길이보다 큰 값으로 지정한 경우\n",
    "print string[2:] # 끝 지점을 설정하지 않은 경우\n",
    "print string[:4] # 시작 지점을 설정하지 않은 경우\n",
    "\n",
    "print string[-3:-1] # 음수로 indexing 하는 경우\n",
    "print string[-1:]\n",
    "print string[10:] \n",
    "\n",
    "# 문자열 구간도 '+', '*' 연산이 가능합니다\n",
    "\n",
    "print string[0:5] + string[6:]\n",
    "print string[0:5] * 2 + string[5:]"
   ]
  },
  {
   "cell_type": "code",
   "execution_count": null,
   "metadata": {
    "collapsed": false
   },
   "outputs": [],
   "source": [
    "# 문자열의 내용을 생성 이후에 변경할 수 없습니다.\n",
    "string[0] = 'F'\n",
    "\n",
    "# 문자열 연산을 통해서 다른 문자열을 생성할 수는 있습니다.\n",
    "new_string = 'F' + string[1:]"
   ]
  },
  {
   "cell_type": "code",
   "execution_count": null,
   "metadata": {
    "collapsed": false
   },
   "outputs": [],
   "source": [
    "len(string) # 문자열의 길이"
   ]
  },
  {
   "cell_type": "code",
   "execution_count": null,
   "metadata": {
    "collapsed": false
   },
   "outputs": [],
   "source": [
    "# 한글을 입력하고 싶을 때\n",
    "\n",
    "#-*- coding: utf-8 -*-\n",
    "print \"한글\""
   ]
  },
  {
   "cell_type": "markdown",
   "metadata": {},
   "source": [
    "### 데이터 타입 (3) - 리스트"
   ]
  },
  {
   "cell_type": "code",
   "execution_count": null,
   "metadata": {
    "collapsed": false
   },
   "outputs": [],
   "source": [
    "# 리스트는 파이썬에서 사용하는 복합형 데이터 타입 중 하나로, 동일한 혹은 다양한 타입의 데이터를 차례대로 나열하는 집합입니다.\n",
    "# 리스트의 내용은 []으로 묶어서 표현하며, 각 구성요소는 , 로 구분합니다.\n",
    "\n",
    "num = [1, 2, 3, 4, 5] #리스트도 변수에 대입하여 저장할 수 있습니다.\n",
    "print num\n",
    "type(num)\n",
    "\n",
    "# 문자열에서와 마찬가지로, Index를 활용하여 단일 혹은 구간의 내용을 확인할 수 있습니다.\n",
    "print num[0]\n",
    "print num[3]\n",
    "print num[-1]\n",
    "print num[0:3]\n",
    "print num[:3]\n",
    "print num[4:5]\n",
    "print num[4:]\n",
    "print num[-4:]"
   ]
  },
  {
   "cell_type": "code",
   "execution_count": null,
   "metadata": {
    "collapsed": false
   },
   "outputs": [],
   "source": [
    "# 문자열은 글자로 구성된 리스트의 한 종류라고 이해할 수 있습니다. \n",
    "# 하지만 문자열은 생성 이후에 내용을 바꿀 수 없었던 것과 달리, 리스트는 Index를 활용하여 내용을 바꿀 수 있다는 차이가 있습니다.\n",
    "num[4] = 6\n",
    "print num\n",
    "\n",
    "num[1:] = [4, 9, 16, 25]\n",
    "print num\n",
    "\n",
    "num[:] = []\n",
    "print num\n",
    "\n",
    "\n",
    "# 리스트에 내용을 추가할 수 있다.\n",
    "num = num + [7, 8]\n",
    "print num\n",
    "\n",
    "# len() 함수로 리스트의 길이를 알 수 있습니다.\n",
    "print len(num)"
   ]
  },
  {
   "cell_type": "markdown",
   "metadata": {},
   "source": [
    "지금까지 파이썬에서 가장 자주 사용하는 데이터형에 대해서 간단히 알아보았습니다. 그래도 아직 프로그래밍이 무엇인지 감이 안 오시죠? 자료형에 대해 배워야 할 게 아직 많지만 일단 잠시 접어두고, 조금 더 흥미로운 내용을 먼저 다뤄보도록 하겠습니다."
   ]
  },
  {
   "cell_type": "markdown",
   "metadata": {},
   "source": [
    "# 2. Step by Step : Control Flow (제어문)"
   ]
  },
  {
   "cell_type": "markdown",
   "metadata": {},
   "source": [
    "앞서 우리가 사용했던 Interactive Mode는 사용자가 입력한 내용에 대한 결과가 즉각적으로 보인다는 점에서 짧고 간단한 프로그램을 수행하는 데에는 매우 편리하지만, 프로그램에서 수행해야 하는 연산이 복잡해지고, 코드가 길어질수록 사용성이 떨어지고, 무엇보다 내용이 저장되지 않기 때문에 재사용성이 떨어진다는 단점이 있습니다.\n",
    "\n",
    "그래서 우리는 앞으로 본격적으로 프로그래밍을 하기 위해서 PyCharm이라고 하는 IDLE(Integrated Development Environment), 개발자가 프로그램을 작성하기 편리하도록 만들어주는 프로그램, 쉽게 말해, 문서 작성에 워드프로세서 프로그램을 사용하는 것처럼, 프로그램을 작성할 때 사용하는 프로그램을 사용할 것입니다.\n",
    "\n",
    "워드프로세서에도 노트패드, MS워드, 한글 등 여러 프로그램이 있는 것처럼, IDLE도 다양한 종류가 있는데요, 저희가 사용할 프로그램은 Python 개발자들이 보통 많이 사용하는 PyCharm이라고 하는 프로그램입니다."
   ]
  },
  {
   "cell_type": "markdown",
   "metadata": {},
   "source": [
    "우리가 지금 영어를 배우고 있다고 비유해보면, 데이터형은 알파벳과 단어를 배운 것에 비유할 수 있습니다. 영어를 읽고 쓰기 위해서 반드시 알아야 하는 글자를 배운 정도인 것이죠. 이제 지금까지 배운 단어들로 문장을 만들어봐야겠죠? 영어에도 평서문, 부정문, 의문문 등 다양한 문장이 있는 것처럼, 프로그램에도 쓰임에 따라 다양한 종류의 문장(Statement)이 있습니다. 오늘은 가장 간단한 if문과 for문 두 가지를 배워보겠습니다."
   ]
  },
  {
   "cell_type": "markdown",
   "metadata": {},
   "source": [
    "## (1) 조건문 : if Statement (if문)"
   ]
  },
  {
   "cell_type": "markdown",
   "metadata": {},
   "source": [
    "if문은 'A라는 문장이 참일 때 B라는 문장을 실행하라'는 의미를 가지고 있습니다. 모양과 쓰임새는 아래 예제를 보고 파악해봅시다."
   ]
  },
  {
   "cell_type": "code",
   "execution_count": null,
   "metadata": {
    "collapsed": false
   },
   "outputs": [],
   "source": [
    "\"\"\"\n",
    "##### if문의 모양 #####\n",
    "\n",
    "if 조건문 : \n",
    "    조건문이 참일 때 실행할 문장\n",
    "    (python에서는 들여쓰기가 굉장히 중요합니다. 보통 들여쓰기가 끝나는 문장까지 한 묶음으로 인식합니다.)\n",
    "\"\"\"\n",
    "\n",
    "x = 10\n",
    "if x % 2 == 1 : # 조건문과 조건이 참일 때 실행할 문장은 ':'로 구분합니다.\n",
    "    print x, 'is an odd number' # 실행할 문장은 \"반드시\" 들여쓰기 되어야 합니다. 보통 'space 4개' 혹은 '탭 한번'으로 통일합니다.\n",
    "\n",
    "# 실행할 문장이 여러 행일 경우    \n",
    "if x % 2 == 1:\n",
    "    print x\n",
    "    print ' is an odd number'\n",
    "    \n",
    "# 컴퓨터에서는 0이면 거짓, 0이 아니면 참입니다.\n",
    "if x % 2 :\n",
    "    print x, 'is an odd number'\n"
   ]
  },
  {
   "cell_type": "markdown",
   "metadata": {},
   "source": [
    "조건문이 거짓일 때는 어떻게 하지?"
   ]
  },
  {
   "cell_type": "code",
   "execution_count": null,
   "metadata": {
    "collapsed": false
   },
   "outputs": [],
   "source": [
    "\"\"\"\n",
    "##### if - else #####\n",
    "if 조건문 :\n",
    "    조건문이 참일 때 실행할 문장\n",
    "else :\n",
    "    위의 조건문이 거짓일 때 실행할 문장\n",
    "\"\"\"\n",
    "\n",
    "x = 10\n",
    "if x % 2 :\n",
    "    print 'x is an odd number'\n",
    "else :\n",
    "    print 'x is an even number'\n",
    "    \n",
    "# else 는 위의 조건문이 거짓일 때 무조건 실행되기 때문에 따로 조건을 줄 필요가 없겠죠? \n",
    "# 그렇기 때문에 else 다음에 바로 ':'을 붙이고 아래에 실행할 문장들을 적어주면 됩니다.\n",
    "# 여기에서도 마찬가지로 같은 정도로 들여쓰기된 문장들을 한 묶음으로 인식하게 됩니다."
   ]
  },
  {
   "cell_type": "markdown",
   "metadata": {},
   "source": [
    "조건을 여러 개 줄 수는 없을까?"
   ]
  },
  {
   "cell_type": "code",
   "execution_count": null,
   "metadata": {
    "collapsed": false
   },
   "outputs": [],
   "source": [
    "\"\"\"\n",
    "##### if - elif #####\n",
    "if 조건문1 :\n",
    "    조건문1이 참일 때 실행할 문장\n",
    "elif 조건문2 :\n",
    "    조건문1은 거짓이지만 조건문2가 참일 때 실행할 문장\n",
    "elif 조건문3 :\n",
    "    조건문 1과 2 모두 거짓이지만 조건문3이 참일 때 실행할 문장\n",
    "\"\"\"\n",
    "\n",
    "x = 10\n",
    "if x < 0 :\n",
    "    print 'x is a negative number'\n",
    "elif x == 0 :\n",
    "    print 'x is zero'\n",
    "elif x % 2 :\n",
    "    print 'x is an odd number'\n",
    "else :\n",
    "    print 'x is an even number'\n",
    "    \n",
    "# elif는 있어도, 없어도 되고, 하나 또는 다수개가 쓰일 수 있습니다.\n",
    "# 마찬가지로 else 역시 있어도 되고 없어도 됩니다. 다만, else 는 당연히 제일 마지막에 한번만 쓰여야 하겠죠?"
   ]
  },
  {
   "cell_type": "code",
   "execution_count": null,
   "metadata": {
    "collapsed": false
   },
   "outputs": [],
   "source": [
    "# if문의 중첩\n",
    "# 같은 정도로 들여쓰기가 되어 있는 문장들은 한 묶음으로 인식한다는 점!\n",
    "\n",
    "x = 10\n",
    "\n",
    "if x > 0 :\n",
    "    'x is a positive number and '\n",
    "    if x % 2 :\n",
    "        print 'an odd number.'\n",
    "    else :\n",
    "        print 'an even number.'\n",
    "elif x < 0:\n",
    "    print 'x is a negative number.'\n",
    "else :\n",
    "    print 'x is zero.'"
   ]
  },
  {
   "cell_type": "markdown",
   "metadata": {},
   "source": [
    "## (2) 반복문"
   ]
  },
  {
   "cell_type": "markdown",
   "metadata": {},
   "source": [
    "반복문은 이름처럼 똑같은 작업을 n번 반복해야할 때 사용하는 문장입니다.\n",
    "\n",
    "먼저 살펴볼 반복문은 'for문' 입니다.\n",
    "\n",
    "데이터 다루는 방법을 더 공부해보면 아시겠지만, 대부분의 데이터는 개별적인 변수 하나하나에 저장되기 보다는 리스트나 앞으로 배우게 될 튜플, 딕셔너리에 연속적으로 저장하는 경우가 많습니다. for문은 이렇게 연속적으로 저장되어 있는 데이터들을 차례대로 읽어가면서 처리하는 데에 쓰이는 문장입니다."
   ]
  },
  {
   "cell_type": "code",
   "execution_count": null,
   "metadata": {
    "collapsed": false
   },
   "outputs": [],
   "source": [
    "\"\"\"\n",
    "##### for문 #####\n",
    "for A in Sequence(문자열, 리스트, 튜플, 딕셔너리) : \n",
    "    A로 처리할 문장\n",
    "   \n",
    "* A는 Index 0부터 끝까지 차례대로 하나씩 불립니다.\n",
    "\"\"\"\n",
    "\n",
    "# 문자열\n",
    "for letter in 'Python' :\n",
    "    print 'Now we are at ', letter\n",
    "    \n",
    "# 리스트\n",
    "animals = ['dog', 'cat', 'tiger', 'lion', 'leopard']\n",
    "for animal in animals:\n",
    "    print animal\n",
    "    \n",
    "# range() 함수 : 숫자 리스트를 반환하는 함수입니다.\n",
    "print range(5) # 끝점만 주어졌을 때\n",
    "print range(0, 10) # 시작점과 끝점이 주어졌을 때\n",
    "print range(0, 10, 2) # 시작점과 끝점, 그리고 간격이 함께 주어졌을 때\n",
    "\n",
    "for number in range(5) :\n",
    "    print number\n",
    "\n",
    "    \n",
    "# range 함수를 활용하여 리스트의 인덱스를 활용하여 접근해봅시다.\n",
    "for index in range(len(animals)) :\n",
    "    print index, animals[index]"
   ]
  },
  {
   "cell_type": "markdown",
   "metadata": {},
   "source": [
    "다음으로 살펴볼 반복문은 while문입니다. while문은 조건이 참인 동안 계속해서 반복되는 문장입니다."
   ]
  },
  {
   "cell_type": "code",
   "execution_count": null,
   "metadata": {
    "collapsed": false
   },
   "outputs": [],
   "source": [
    "\"\"\"\n",
    "##### while문 #####\n",
    "while 조건문 :\n",
    "    조건이 참인 경우 수행할 문장\n",
    "\"\"\"\n",
    "\n",
    "count = 10\n",
    "\n",
    "while count > 0 :\n",
    "    print 'count is: ', count\n",
    "    count = count - 1"
   ]
  },
  {
   "cell_type": "code",
   "execution_count": null,
   "metadata": {
    "collapsed": false
   },
   "outputs": [],
   "source": [
    "# 조건문과 반복문을 함께 사용하는 예제를 한 번 봐볼까요\n",
    "# 1부터 20까지의 숫자를 짝수와 홀수로 구분하는 프로그램을 작성해봅시다.\n",
    "\n",
    "for num in range(1, 21) :\n",
    "    if num % 2 :\n",
    "        print num, ' is an odd number'\n",
    "    else :\n",
    "        print num, ' is an even number'"
   ]
  },
  {
   "cell_type": "markdown",
   "metadata": {},
   "source": [
    "## # 이번주 과제"
   ]
  },
  {
   "cell_type": "code",
   "execution_count": null,
   "metadata": {
    "collapsed": false
   },
   "outputs": [],
   "source": [
    "# 카페 프랜차이즈의 이름과 아메리카노 가격이 각각 cafe와 price라는 변수명으로 주어져 있고, \n",
    "# 현재 내가 가지고 있는 돈은 budget이라는 변수명에 주어져 있습니다.\n",
    "# 주어진 예산 내에서 아메리카노 5잔을 살 수 있는 카페의 이름과 5잔을 사고 남은 잔액을 차례로 출력하는 프로그램을 작성해보세요.\n",
    "\n",
    "cafe = ['Starbucks', 'Coffee Bean', 'Twosome Place', 'EDIYA Coffee', 'Cafe Bene']\n",
    "price = [3800, 4500, 4100, 2900, 4500]\n",
    "\n",
    "budget = 19000\n",
    "\n",
    "# 아래에 프로그램에 작성해보세요!\n",
    "\n",
    "\n",
    "\n",
    "\n",
    "# 출력 예시\n",
    "Starbucks, 0\n",
    "EDIYA Coffee, 4500"
   ]
  }
 ],
 "metadata": {
  "kernelspec": {
   "display_name": "Python 2",
   "language": "python",
   "name": "python2"
  },
  "language_info": {
   "codemirror_mode": {
    "name": "ipython",
    "version": 2
   },
   "file_extension": ".py",
   "mimetype": "text/x-python",
   "name": "python",
   "nbconvert_exporter": "python",
   "pygments_lexer": "ipython2",
   "version": "2.7.11"
  }
 },
 "nbformat": 4,
 "nbformat_minor": 0
}
